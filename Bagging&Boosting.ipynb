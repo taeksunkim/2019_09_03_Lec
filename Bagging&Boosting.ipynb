{
 "cells": [
  {
   "cell_type": "code",
   "execution_count": 19,
   "metadata": {
    "collapsed": true
   },
   "outputs": [],
   "source": [
    "import numpy as np\n",
    "import matplotlib.pyplot as plt\n",
    "import pandas as pd\n",
    "import math\n",
    "from sklearn.model_selection import train_test_split\n",
    "from sklearn.ensemble import RandomForestRegressor\n",
    "from sklearn import metrics\n",
    "import xgboost\n",
    "\n",
    "\n",
    "def loadDataset(filename):\n",
    "    dataset=pd.read_csv(filename)\n",
    "    input_features=['Age','Income','Limit','Cards','Student','Education']\n",
    "    target_feature=['Balance']\n",
    "    target_feature=['Balance']\n",
    "    dataset=dataset[input_features+target_feature]\n",
    "    dataset['Student'].replace('Yes',1,inplace=True)\n",
    "    dataset['Student'].replace('No',0,inplace=True)\n",
    "    x = dataset.drop('Balance', axis = 1).values\n",
    "    y = dataset['Balance'].values\n",
    "    X_train, X_test, y_train, y_test = train_test_split(x, y, test_size = 0.25, random_state = 0)\n",
    "    return X_train, X_test, y_train, y_test\n",
    "\n",
    "def getAccuracy(testSet, predictions):\n",
    "    print('Root Mean Squared Error:', np.sqrt(metrics.mean_squared_error(testSet, predictions)))\n",
    "    print('test plot')\n",
    "    plt.plot(testSet, predictions,  'ro', label='test set')\n",
    "    plt.plot(testSet, testSet, label='standard line')\n",
    "    plt.xlabel(\"Target\")\n",
    "    plt.ylabel(\"Output\")\n",
    "    plt.legend()\n",
    "    plt.show()\n"
   ]
  },
  {
   "cell_type": "code",
   "execution_count": 20,
   "metadata": {},
   "outputs": [
    {
     "name": "stdout",
     "output_type": "stream",
     "text": [
      "Root Mean Squared Error: 97.47764281105695\n",
      "test plot\n"
     ]
    },
    {
     "data": {
      "image/png": "[encoded data removed]",
      "text/plain": [
       "<matplotlib.figure.Figure at 0x7f7d355d2240>"
      ]
     },
     "metadata": {},
     "output_type": "display_data"
    }
   ],
   "source": [
    "def RandomForest():\n",
    "    X_train, X_test, y_train, y_test=loadDataset('Credit.csv')\n",
    "    \n",
    "\n",
    "    ###Fill out here\n",
    "    \n",
    "    getAccuracy(y_test, y_pred)\n",
    "    \n",
    "RandomForest()\n"
   ]
  },
  {
   "cell_type": "code",
   "execution_count": null,
   "metadata": {},
   "outputs": [],
   "source": []
  },
  {
   "cell_type": "code",
   "execution_count": null,
   "metadata": {
    "collapsed": true
   },
   "outputs": [],
   "source": []
  },
  {
   "cell_type": "code",
   "execution_count": null,
   "metadata": {
    "collapsed": true
   },
   "outputs": [],
   "source": []
  }
 ],
 "metadata": {
  "kernelspec": {
   "display_name": "Python 3",
   "language": "python",
   "name": "python3"
  },
  "language_info": {
   "codemirror_mode": {
    "name": "ipython",
    "version": 3
   },
   "file_extension": ".py",
   "mimetype": "text/x-python",
   "name": "python",
   "nbconvert_exporter": "python",
   "pygments_lexer": "ipython3",
   "version": "3.7.3"
  }
 },
 "nbformat": 4,
 "nbformat_minor": 2
}
