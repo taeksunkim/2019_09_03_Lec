{
 "cells": [
  {
   "cell_type": "code",
   "execution_count": 197,
   "metadata": {
    "collapsed": true
   },
   "outputs": [],
   "source": [
    "import csv\n",
    "import pandas as pd\n",
    "import numpy as np\n",
    "import matplotlib.pyplot as plt\n",
    "import math\n",
    "import csv\n",
    "import random\n",
    "from sklearn.model_selection import train_test_split\n",
    "import operator\n"
   ]
  },
  {
   "cell_type": "code",
   "execution_count": 161,
   "metadata": {
    "collapsed": true
   },
   "outputs": [],
   "source": [
    "\n",
    "def loadDataset(filename):\n",
    "    df = pd.read_csv(filename, index_col=0)\n",
    "    input_features=['Age','Income','Limit','Cards','Student','Education']\n",
    "    target_feature=['Balance']\n",
    "    df_input=df[input_features+target_feature]\n",
    "    \n",
    "    #########fill out here\n",
    "    #we need to change categorical variable (Yes or No) to dummy variable (1 or 0).\n",
    "\n",
    "\n",
    "    train=df_input.sample(frac=0.75,random_state=3) #split into train and test\n",
    "    test=df_input.drop(train.index)\n",
    "    trainingSet=train.values.tolist()\n",
    "    testSet=test.values.tolist()\n",
    "    return trainingSet, testSet\n",
    "\n",
    "def euclideanDistance(instance1, instance2): \n",
    "\n",
    "    #######fill out here same with previous \n",
    "\n",
    "def getNeighbors(trainingSet, testInstance, k):\n",
    "\n",
    "    ######fill out here same with previous \n",
    "\n",
    "\n",
    "def getResponse(neighbors):\n",
    "    ######fill out here same with previous \n",
    "    ####here we need to caculate the average target value of k nearest neighbors.\n",
    "    \n",
    "    return mean\n",
    "\n",
    "def getAccuracy(testSet, predictions):\n",
    "    accuracy=np.sqrt(np.average((np.array(testSet)[:,-1]-np.array(predictions))**2))\n",
    "    print('test plot')\n",
    "    plt.plot(np.array(testSet)[:,-1], np.array(predictions),  'ro', label='test set')\n",
    "    plt.plot(np.array(testSet)[:,-1], np.array(testSet)[:,-1], label='standard line')\n",
    "    plt.xlabel(\"Target\")\n",
    "    plt.ylabel(\"Output\")\n",
    "    plt.legend()\n",
    "    plt.show()\n",
    "    return accuracy\n"
   ]
  },
  {
   "cell_type": "code",
   "execution_count": 160,
   "metadata": {
    "scrolled": true
   },
   "outputs": [
    {
     "name": "stdout",
     "output_type": "stream",
     "text": [
      "Train set: 340\n",
      "Test set: 60\n",
      "> predicted=188.66666666666666, actual=333.0\n",
      "> predicted=1262.3333333333333, actual=964.0\n",
      "> predicted=354.0, actual=279.0\n",
      "> predicted=1208.0, actual=1350.0\n",
      "> predicted=187.33333333333334, actual=0.0\n",
      "> predicted=138.33333333333334, actual=89.0\n",
      "> predicted=398.6666666666667, actual=411.0\n",
      "> predicted=0.0, actual=0.0\n",
      "> predicted=237.33333333333334, actual=654.0\n",
      "> predicted=741.6666666666666, actual=467.0\n",
      "> predicted=791.0, actual=1093.0\n",
      "> predicted=1092.0, actual=1155.0\n",
      "> predicted=593.3333333333334, actual=654.0\n",
      "> predicted=1036.0, actual=957.0\n",
      "> predicted=125.0, actual=133.0\n",
      "> predicted=1439.0, actual=1779.0\n",
      "> predicted=442.0, actual=579.0\n",
      "> predicted=733.3333333333334, actual=812.0\n",
      "> predicted=0.0, actual=0.0\n",
      "> predicted=900.6666666666666, actual=1380.0\n",
      "> predicted=0.0, actual=0.0\n",
      "> predicted=752.6666666666666, actual=904.0\n",
      "> predicted=329.3333333333333, actual=868.0\n",
      "> predicted=914.6666666666666, actual=1018.0\n",
      "> predicted=232.66666666666666, actual=75.0\n",
      "> predicted=17.333333333333332, actual=68.0\n",
      "> predicted=230.66666666666666, actual=429.0\n",
      "> predicted=0.0, actual=0.0\n",
      "> predicted=154.33333333333334, actual=283.0\n",
      "> predicted=0.0, actual=0.0\n",
      "> predicted=188.66666666666666, actual=423.0\n",
      "> predicted=873.3333333333334, actual=789.0\n",
      "> predicted=1030.3333333333333, actual=930.0\n",
      "> predicted=451.0, actual=126.0\n",
      "> predicted=415.3333333333333, actual=336.0\n",
      "> predicted=442.0, actual=230.0\n",
      "> predicted=613.3333333333334, actual=653.0\n",
      "> predicted=700.6666666666666, actual=1246.0\n",
      "> predicted=721.0, actual=573.0\n",
      "> predicted=295.3333333333333, actual=156.0\n",
      "> predicted=665.3333333333334, actual=689.0\n",
      "> predicted=145.66666666666666, actual=199.0\n",
      "> predicted=916.3333333333334, actual=1048.0\n",
      "> predicted=346.6666666666667, actual=15.0\n",
      "> predicted=734.3333333333334, actual=436.0\n",
      "> predicted=267.0, actual=728.0\n",
      "> predicted=641.3333333333334, actual=863.0\n",
      "> predicted=966.6666666666666, actual=1142.0\n",
      "> predicted=119.33333333333333, actual=182.0\n",
      "> predicted=402.6666666666667, actual=410.0\n",
      "> predicted=900.6666666666666, actual=907.0\n",
      "> predicted=499.6666666666667, actual=425.0\n",
      "> predicted=544.0, actual=413.0\n",
      "> predicted=1439.0, actual=1405.0\n",
      "> predicted=998.3333333333334, actual=962.0\n",
      "> predicted=457.3333333333333, actual=382.0\n",
      "> predicted=32.666666666666664, actual=0.0\n",
      "> predicted=482.3333333333333, actual=717.0\n",
      "> predicted=1219.0, actual=849.0\n",
      "> predicted=1025.6666666666667, actual=966.0\n",
      "[ 333.  964.  279. 1350.    0.   89.  411.    0.  654.  467. 1093. 1155.\n",
      "  654.  957.  133. 1779.  579.  812.    0. 1380.    0.  904.  868. 1018.\n",
      "   75.   68.  429.    0.  283.    0.  423.  789.  930.  126.  336.  230.\n",
      "  653. 1246.  573.  156.  689.  199. 1048.   15.  436.  728.  863. 1142.\n",
      "  182.  410.  907.  425.  413. 1405.  962.  382.    0.  717.  849.  966.]\n",
      "test plot\n"
     ]
    },
    {
     "name": "stderr",
     "output_type": "stream",
     "text": [
      "/home/osilab1/anaconda3/lib/python3.6/site-packages/pandas/core/generic.py:3924: SettingWithCopyWarning: \n",
      "A value is trying to be set on a copy of a slice from a DataFrame\n",
      "\n",
      "See the caveats in the documentation: http://pandas.pydata.org/pandas-docs/stable/indexing.html#indexing-view-versus-copy\n",
      "  self._update_inplace(new_data)\n"
     ]
    },
    {
     "data": {
      "image/png": "[encoded data removed]",
      "text/plain": [
       "<matplotlib.figure.Figure at 0x7fecda2db128>"
      ]
     },
     "metadata": {},
     "output_type": "display_data"
    },
    {
     "name": "stdout",
     "output_type": "stream",
     "text": [
      "Accuracy(RMSE): 208.87690863990437\n"
     ]
    }
   ],
   "source": [
    "def main():\n",
    "# prepare data\n",
    "    trainingSet,testSet=loadDataset('Credit.csv')\n",
    "    print ('Train set: ' + repr(len(trainingSet)))\n",
    "    print ('Test set: ' + repr(len(testSet)))\n",
    "    # generate predictions\n",
    "    predictions=[]\n",
    "    k=3\n",
    "    for x in range(len(testSet)):\n",
    "        neighbors = getNeighbors(trainingSet, testSet[x], k)\n",
    "        result = getResponse(neighbors)\n",
    "        predictions.append(result)\n",
    "        print('> predicted=' + repr(result) + ', actual=' + repr(testSet[x][-1]))\n",
    "    accuracy = getAccuracy(testSet, predictions)\n",
    "    print('Accuracy(RMSE): ' + repr(accuracy) )\n",
    "    \n",
    "main()"
   ]
  },
  {
   "cell_type": "code",
   "execution_count": null,
   "metadata": {
    "collapsed": true
   },
   "outputs": [],
   "source": []
  }
 ],
 "metadata": {
  "kernelspec": {
   "display_name": "Python 3",
   "language": "python",
   "name": "python3"
  },
  "language_info": {
   "codemirror_mode": {
    "name": "ipython",
    "version": 3
   },
   "file_extension": ".py",
   "mimetype": "text/x-python",
   "name": "python",
   "nbconvert_exporter": "python",
   "pygments_lexer": "ipython3",
   "version": "3.6.8"
  }
 },
 "nbformat": 4,
 "nbformat_minor": 2
}
