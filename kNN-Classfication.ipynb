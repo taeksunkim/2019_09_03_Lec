{
 "cells": [
  {
   "cell_type": "code",
   "execution_count": 197,
   "metadata": {
    "collapsed": true
   },
   "outputs": [],
   "source": [
    "import csv\n",
    "import pandas as pd\n",
    "import numpy as np\n",
    "import matplotlib.pyplot as plt\n",
    "import math\n",
    "import csv\n",
    "import random\n",
    "from sklearn.model_selection import train_test_split\n",
    "import operator\n"
   ]
  },
  {
   "cell_type": "code",
   "execution_count": 199,
   "metadata": {
    "collapsed": true
   },
   "outputs": [],
   "source": [
    "def loadDataset(filename):\n",
    "    data=pd.read_csv(filename)\n",
    "    trainingSet, testSet = train_test_split(data, test_size = 0.25, random_state = 3)\n",
    "    return trainingSet.values.tolist(), testSet.values.tolist()"
   ]
  },
  {
   "cell_type": "code",
   "execution_count": 224,
   "metadata": {
    "collapsed": true,
    "scrolled": true
   },
   "outputs": [],
   "source": [
    "def euclideanDistance(instance1, instance2): \n",
    "    distance=0\n",
    "#####fill out here.\n",
    "#instance has a form like [4.6, 3.2, 1.4, 0.2, 'Setosa']\n",
    "#we need to calculate euclidean distance between instance1 and 2.\n",
    "#the return value of distance is a scalar value.\n",
    "    return distance"
   ]
  },
  {
   "cell_type": "code",
   "execution_count": null,
   "metadata": {
    "collapsed": true
   },
   "outputs": [],
   "source": [
    "## test for eucldieanDistance function\n",
    "instance1=[4.6, 3.2, 1.4, 0.2, 'Setosa']\n",
    "instance2=[6.4, 2.7, 5.3, 1.9, 'Virginica']\n",
    "value=euclideanDistance(instance1, instance2)\n",
    "print('Function value: ',value)\n",
    "print('Correct answer: ',4.646504062195578)\n",
    "\n",
    "\n",
    "\n",
    "\n",
    "\n",
    "\n"
   ]
  },
  {
   "cell_type": "code",
   "execution_count": 225,
   "metadata": {
    "collapsed": true
   },
   "outputs": [],
   "source": [
    "def getNeighbors(trainingSet, testInstance, k): \n",
    "    neighbors=[]\n",
    "#fill out here\n",
    "#using the function of euclideanDistance we can get distances between training data and testInstance.\n",
    "#sorting them with the distances and getting the k nearest neighbors.\n",
    "#the return value of neighbors has a form like [[5.4, 3.4, 1.7, 0.2, 'Setosa'], [5.2, 3.4, 1.4, 0.2, 'Setosa'], [5.5, 3.5, 1.3, 0.2, 'Setosa']] when k=3\n",
    "    return neighbors"
   ]
  },
  {
   "cell_type": "code",
   "execution_count": null,
   "metadata": {
    "collapsed": true
   },
   "outputs": [],
   "source": [
    "## test for getNeighbors function\n",
    "\n",
    "trainingSet, testSet=loadDataset('iris.csv')\n",
    "testInstance=[4.6, 3.2, 1.4, 0.2, 'Setosa']\n",
    "k=3\n",
    "value=getNeighbors(trainingSet,testInstance,k)\n",
    "print('Function value: ',value)\n",
    "print('Correct answer: ',[[4.7, 3.2, 1.3, 0.2, 'Setosa'], [4.7, 3.2, 1.6, 0.2, 'Setosa'], [4.8, 3.0, 1.4, 0.3, 'Setosa']])\n",
    "\n",
    "\n",
    "\n"
   ]
  },
  {
   "cell_type": "code",
   "execution_count": 226,
   "metadata": {
    "collapsed": true
   },
   "outputs": [],
   "source": [
    "def getResponse(neighbors):\n",
    "    classVotes = {}  \n",
    "    for i in range(len(neighbors)):\n",
    "        response = neighbors[i][-1]  ##species of i-th neighbors.\n",
    "        ###fill out here\n",
    "        ### we need to make a dictionary, key is iris species and value is counting number of each species.\n",
    "        \n",
    "\n",
    "    sortedVotes = sorted(classVotes.items(), key=operator.itemgetter(1), reverse=True)\n",
    "    ##print(sortedVotes) has a form like [('Virginica', 2), ('Versicolor', 1)] when k=3.\n",
    "    return sortedVotes[0][0] ##return value is string value of one species.\n",
    " "
   ]
  },
  {
   "cell_type": "code",
   "execution_count": null,
   "metadata": {
    "collapsed": true
   },
   "outputs": [],
   "source": [
    "## test for getResponse function\n",
    "neighbors=[[6.9, 3.1, 4.9, 1.5, 'Versicolor'], [6.5, 3.0, 5.2, 2.0, 'Virginica'], [6.5, 3.2, 5.1, 2.0, 'Virginica']]\n",
    "value=getResponse(neighbors)\n",
    "print('Function value:',value)\n",
    "print('Correct answer: Virginica')\n",
    "\n",
    " \n",
    "    \n",
    "    "
   ]
  },
  {
   "cell_type": "code",
   "execution_count": 227,
   "metadata": {
    "collapsed": true
   },
   "outputs": [],
   "source": [
    "def getAccuracy(testSet, predictions):\n",
    "    correct = 0\n",
    "    for x in range(len(testSet)):\n",
    "        if testSet[x][-1] == predictions[x]:\n",
    "            correct += 1\n",
    "    return (correct/float(len(testSet))) * 100.0"
   ]
  },
  {
   "cell_type": "code",
   "execution_count": 228,
   "metadata": {},
   "outputs": [
    {
     "name": "stdout",
     "output_type": "stream",
     "text": [
      "Train set:  112\n",
      "Test set:  38\n",
      "> predicted='Setosa', actual='Setosa'\n",
      "> predicted='Setosa', actual='Setosa'\n",
      "> predicted='Setosa', actual='Setosa'\n",
      "> predicted='Setosa', actual='Setosa'\n",
      "> predicted='Setosa', actual='Setosa'\n",
      "> predicted='Virginica', actual='Virginica'\n",
      "> predicted='Versicolor', actual='Versicolor'\n",
      "> predicted='Setosa', actual='Setosa'\n",
      "> predicted='Virginica', actual='Virginica'\n",
      "> predicted='Versicolor', actual='Versicolor'\n",
      "> predicted='Versicolor', actual='Versicolor'\n",
      "> predicted='Setosa', actual='Setosa'\n",
      "> predicted='Versicolor', actual='Versicolor'\n",
      "> predicted='Versicolor', actual='Versicolor'\n",
      "> predicted='Virginica', actual='Virginica'\n",
      "> predicted='Setosa', actual='Setosa'\n",
      "> predicted='Virginica', actual='Versicolor'\n",
      "> predicted='Virginica', actual='Virginica'\n",
      "> predicted='Virginica', actual='Virginica'\n",
      "> predicted='Setosa', actual='Setosa'\n",
      "> predicted='Virginica', actual='Virginica'\n",
      "> predicted='Virginica', actual='Virginica'\n",
      "> predicted='Virginica', actual='Virginica'\n",
      "> predicted='Versicolor', actual='Versicolor'\n",
      "> predicted='Setosa', actual='Setosa'\n",
      "> predicted='Virginica', actual='Virginica'\n",
      "> predicted='Virginica', actual='Virginica'\n",
      "> predicted='Versicolor', actual='Versicolor'\n",
      "> predicted='Versicolor', actual='Versicolor'\n",
      "> predicted='Versicolor', actual='Versicolor'\n",
      "> predicted='Setosa', actual='Setosa'\n",
      "> predicted='Setosa', actual='Setosa'\n",
      "> predicted='Virginica', actual='Virginica'\n",
      "> predicted='Versicolor', actual='Versicolor'\n",
      "> predicted='Setosa', actual='Setosa'\n",
      "> predicted='Setosa', actual='Setosa'\n",
      "> predicted='Virginica', actual='Versicolor'\n",
      "> predicted='Setosa', actual='Setosa'\n",
      "Accuracy: 94.73684210526315%\n"
     ]
    }
   ],
   "source": [
    "def main():\n",
    "    trainingSet, testSet=loadDataset('iris.csv')\n",
    "    print ('Train set: ',len(trainingSet))\n",
    "    print ('Test set: ',len(testSet))\n",
    "    # generate predictions\n",
    "    predictions=[]\n",
    "    k=3\n",
    "    for x in range(len(testSet)):\n",
    "        neighbors = getNeighbors(trainingSet, testSet[x], k)\n",
    "        result = getResponse(neighbors)\n",
    "        predictions.append(result)\n",
    "        print('> predicted=' + repr(result) + ', actual=' + repr(testSet[x][-1]))\n",
    "    accuracy = getAccuracy(testSet, predictions)\n",
    "    print('Accuracy: ' + repr(accuracy) + '%')\n",
    "    \n",
    "main()"
   ]
  },
  {
   "cell_type": "code",
   "execution_count": null,
   "metadata": {
    "collapsed": true
   },
   "outputs": [],
   "source": []
  }
 ],
 "metadata": {
  "kernelspec": {
   "display_name": "Python 3",
   "language": "python",
   "name": "python3"
  },
  "language_info": {
   "codemirror_mode": {
    "name": "ipython",
    "version": 3
   },
   "file_extension": ".py",
   "mimetype": "text/x-python",
   "name": "python",
   "nbconvert_exporter": "python",
   "pygments_lexer": "ipython3",
   "version": "3.6.8"
  }
 },
 "nbformat": 4,
 "nbformat_minor": 2
}
