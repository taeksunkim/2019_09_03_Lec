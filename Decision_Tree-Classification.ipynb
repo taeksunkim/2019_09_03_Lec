{
 "cells": [
  {
   "cell_type": "markdown",
   "metadata": {},
   "source": [
    "# Practical 3 : Tree Based Method"
   ]
  },
  {
   "cell_type": "markdown",
   "metadata": {},
   "source": [
    "## 1.Tree Implementation"
   ]
  },
  {
   "cell_type": "code",
   "execution_count": 1,
   "metadata": {
    "collapsed": true
   },
   "outputs": [],
   "source": [
    "import numpy as np\n",
    "import matplotlib.pyplot as plt\n",
    "import pandas as pd\n",
    "import math\n",
    "from sklearn.model_selection import train_test_split\n",
    "import operator\n"
   ]
  },
  {
   "cell_type": "code",
   "execution_count": 2,
   "metadata": {},
   "outputs": [],
   "source": [
    "def loadDataset(filename):\n",
    "    data=pd.read_csv(filename)\n",
    "    trainingSet, testSet = train_test_split(data, test_size = 0.25, random_state = 3)\n",
    "    return trainingSet.values, testSet.values\n",
    "\n",
    "training_set,test_set=loadDataset('iris.csv')\n"
   ]
  },
  {
   "cell_type": "code",
   "execution_count": 10,
   "metadata": {
    "collapsed": true
   },
   "outputs": [],
   "source": [
    "verbose = False\n",
    "def getVotes(data):\n",
    "    classVotes = {} #dict\n",
    "    for i in range(len(data)):\n",
    "        response = data[i][-1]\n",
    "        if response in classVotes:\n",
    "            classVotes[response] += 1\n",
    "        else:\n",
    "            classVotes[response] = 1\n",
    "    return classVotes\n",
    "\n",
    "def Entropy(splits):\n",
    "    entropy = 0\n",
    "    for split in splits:\n",
    "        if(len(split) != 0):\n",
    "            vote=getVotes(split)\n",
    "            total=sum(vote.values())\n",
    "    #### Fill out here, We need to calculate entropy for each split.\n",
    "    \n",
    "    return entropy"
   ]
  },
  {
   "cell_type": "code",
   "execution_count": null,
   "metadata": {},
   "outputs": [],
   "source": []
  },
  {
   "cell_type": "code",
   "execution_count": 11,
   "metadata": {
    "collapsed": true
   },
   "outputs": [],
   "source": [
    "def split(index, value, data):\n",
    "    left_split = [element for element in data if(element[index]<value)] #TODO condition\n",
    "    right_split = [element for element in data if(element[index]>=value)] #TODO condition\n",
    "    return [left_split, right_split]\n"
   ]
  },
  {
   "cell_type": "code",
   "execution_count": 17,
   "metadata": {
    "collapsed": true
   },
   "outputs": [],
   "source": [
    "def split_tester(data): #find optimal split\n",
    "    optimal_split_ind, optimal_split_value, optimal_residual, optimal_splits = -1,-1,float(\"inf\"),[]\n",
    "    for curr_ind in range(data.shape[1]-1): #for all features\n",
    "        min_val=np.min(data[:,curr_ind])\n",
    "        for curr_val in data: #for all values in the data\n",
    "            if curr_val[curr_ind] == min_val:\n",
    "                continue\n",
    "            if(verbose):print(\"Curr_split : \" + str((curr_ind, curr_val[curr_ind])))\n",
    "            split_result = split(curr_ind, curr_val[curr_ind], data) #TODO (comments : get the current split)\n",
    "            \n",
    "            if(verbose):print(split_result)\n",
    "            residual_value = Entropy(split_result)#TODO (comments : get the RSS of the current split)\n",
    "            \n",
    "            if(verbose):print(\"Residual : \" + str(residual_value))\n",
    "            if residual_value < optimal_residual:\n",
    "                optimal_split_ind, optimal_split_value, optimal_residual, optimal_splits = curr_ind,\\\n",
    "                                                                    curr_val[curr_ind], residual_value, split_result\n",
    "                \n",
    "    return optimal_split_ind, optimal_split_value, optimal_splits   # index is feature, value is for crietria, splits is data list."
   ]
  },
  {
   "cell_type": "code",
   "execution_count": null,
   "metadata": {},
   "outputs": [],
   "source": []
  },
  {
   "cell_type": "code",
   "execution_count": 18,
   "metadata": {
    "collapsed": true
   },
   "outputs": [],
   "source": [
    "def tree_building(data, min_size): #minimun data size in a split\n",
    "    if(data.shape[0] > min_size): #building tree until the minimum.\n",
    "        ind, value, [left, right] = split_tester(data) #using optimal criteria using split_tester\n",
    "        left, right = np.array(left), np.array(right)\n",
    "        return [tree_building(left, min_size), tree_building(right, min_size),ind,value]\n",
    "    else:\n",
    "        return data  #output is the data in a leaf node."
   ]
  },
  {
   "cell_type": "code",
   "execution_count": 19,
   "metadata": {
    "collapsed": true
   },
   "outputs": [],
   "source": [
    "def getResponse(data):\n",
    "    classVotes = {} #dict\n",
    "    for i in range(len(data)):\n",
    "        response = data[i][-1]\n",
    "        if response in classVotes:\n",
    "            classVotes[response] += 1\n",
    "        else:\n",
    "            classVotes[response] = 1\n",
    "    sortedVotes = sorted(classVotes.items(), key=operator.itemgetter(1), reverse=True)\n",
    "    return sortedVotes[0][0]"
   ]
  },
  {
   "cell_type": "code",
   "execution_count": 20,
   "metadata": {
    "collapsed": true
   },
   "outputs": [],
   "source": [
    "def predict(tree, input_vector):#recursive until reaching the leaf node.\n",
    "    if(type(tree[-1]) != np.float): #when reach the leaf node. tree represent the split data.\n",
    "        if(len(tree) == 1):  #when number of data is 1\n",
    "            return(tree[0][-1])  \n",
    "        else:\n",
    "            return (getResponse(tree))\n",
    "    else:  #before reaching leaf node\n",
    "        left_tree, right_tree, split_ind, split_value = tree #information of the current split \n",
    "        if(input_vector[split_ind]<split_value): #which split the input data belong to\n",
    "            return predict(left_tree, input_vector)\n",
    "        else:\n",
    "            return predict(right_tree, input_vector)\n",
    "    "
   ]
  },
  {
   "cell_type": "code",
   "execution_count": 21,
   "metadata": {},
   "outputs": [
    {
     "name": "stdout",
     "output_type": "stream",
     "text": [
      "Accuracy: 10.526315789473683\n"
     ]
    }
   ],
   "source": [
    "def getAccuracy(testSet, predictions):\n",
    "    correct = 0\n",
    "    for x in range(len(testSet)):\n",
    "        if testSet[x][-1] == predictions[x]:\n",
    "            correct += 1\n",
    "    return (correct/float(len(testSet))) * 100.0\n",
    "\n",
    "\n",
    "tree = tree_building(training_set,10)\n",
    "predictions=[]\n",
    "for employee in test_set:\n",
    "    predictions.append(predict(tree,employee))\n",
    "#     print(\"Predicted : \" + str(predict(tree,employee)) + \", Actual : \" + str(employee[-1]))\n",
    "accuracy = getAccuracy(test_set, predictions)\n",
    "print('Accuracy: ' + repr(accuracy))"
   ]
  },
  {
   "cell_type": "code",
   "execution_count": null,
   "metadata": {
    "collapsed": true
   },
   "outputs": [],
   "source": []
  }
 ],
 "metadata": {
  "kernelspec": {
   "display_name": "Python 3",
   "language": "python",
   "name": "python3"
  },
  "language_info": {
   "codemirror_mode": {
    "name": "ipython",
    "version": 3
   },
   "file_extension": ".py",
   "mimetype": "text/x-python",
   "name": "python",
   "nbconvert_exporter": "python",
   "pygments_lexer": "ipython3",
   "version": "3.7.3"
  }
 },
 "nbformat": 4,
 "nbformat_minor": 2
}
