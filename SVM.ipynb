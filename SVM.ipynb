{
 "cells": [
  {
   "cell_type": "code",
   "execution_count": 3,
   "metadata": {
    "collapsed": true,
    "scrolled": true
   },
   "outputs": [],
   "source": [
    "import csv\n",
    "import pandas as pd\n",
    "import numpy as np\n",
    "import matplotlib.pyplot as plt\n",
    "import math\n",
    "import csv\n",
    "import random\n",
    "from sklearn.svm import SVC\n",
    "dataset=pd.read_csv('iris.csv')\n",
    "data=dataset.loc[(dataset['variety']=='Virginica') | (dataset['variety']=='Versicolor')]\n",
    "\n",
    "# data['variety'].replace('Virginica',1,inplace=True)\n",
    "# data['variety'].replace('Versicolor',0,inplace=True)\n",
    "# data['variety'].replace('Virginica',1,inplace=True)\n",
    "# data['variety'].replace('Versicolor',0,inplace=True)\n"
   ]
  },
  {
   "cell_type": "code",
   "execution_count": 5,
   "metadata": {},
   "outputs": [
    {
     "name": "stdout",
     "output_type": "stream",
     "text": [
      "Accuracy: 96.00\n"
     ]
    }
   ],
   "source": [
    "import csv\n",
    "import pandas as pd\n",
    "import numpy as np\n",
    "import matplotlib.pyplot as plt\n",
    "import math\n",
    "import csv\n",
    "import random\n",
    "from sklearn.svm import SVC\n",
    "from sklearn.model_selection import train_test_split\n",
    "\n",
    "\n",
    "def getAccuracy(testSet, predictions):\n",
    "    correct = 0\n",
    "    for x in range(len(testSet)):\n",
    "        if testSet[x] == predictions[x]:\n",
    "            correct += 1\n",
    "    return (correct/float(len(testSet))) * 100.0\n",
    "\n",
    "x = data.drop('variety', axis = 1).values\n",
    "y = data['variety'].values\n",
    "X_train, X_test, y_train, y_test = train_test_split(x, y, test_size = 0.25, random_state = 3)\n",
    "\n",
    "svm = SVC(kernel='linear', C=1.0, random_state=0)\n",
    "# svm = SVC(kernel='rbf', C=1, random_state=0, gamma=10)  #gaussian kernel\n",
    "\n",
    "\n",
    "svm.fit(X_train, y_train)\n",
    "y_pred_svc = svm.predict(X_test)\n",
    "print('Accuracy: %.2f' % getAccuracy(y_test, y_pred_svc))\n",
    "\n",
    "\n"
   ]
  },
  {
   "cell_type": "markdown",
   "metadata": {
    "collapsed": true
   },
   "source": []
  },
  {
   "cell_type": "code",
   "execution_count": null,
   "metadata": {
    "collapsed": true
   },
   "outputs": [],
   "source": []
  }
 ],
 "metadata": {
  "kernelspec": {
   "display_name": "Python 3",
   "language": "python",
   "name": "python3"
  },
  "language_info": {
   "codemirror_mode": {
    "name": "ipython",
    "version": 3
   },
   "file_extension": ".py",
   "mimetype": "text/x-python",
   "name": "python",
   "nbconvert_exporter": "python",
   "pygments_lexer": "ipython3",
   "version": "3.6.8"
  }
 },
 "nbformat": 4,
 "nbformat_minor": 2
}
